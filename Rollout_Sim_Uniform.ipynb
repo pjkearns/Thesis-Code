{
 "cells": [
  {
   "cell_type": "code",
   "execution_count": 1,
   "metadata": {},
   "outputs": [
    {
     "data": {
      "text/html": [
       "<style>.container { width:100% !important; }</style>"
      ],
      "text/plain": [
       "<IPython.core.display.HTML object>"
      ]
     },
     "metadata": {},
     "output_type": "display_data"
    }
   ],
   "source": [
    "from IPython.core.display import display, HTML\n",
    "display(HTML(\"<style>.container { width:100% !important; }</style>\"))"
   ]
  },
  {
   "cell_type": "code",
   "execution_count": 3,
   "metadata": {
    "colab": {},
    "colab_type": "code",
    "id": "9SgOwXhWbci8"
   },
   "outputs": [],
   "source": [
    "import time\n",
    "import numpy as np\n",
    "import multiprocessing, time\n",
    "import scipy.stats as stats\n",
    "import matplotlib.pyplot as plt\n",
    "from joblib import Parallel, delayed\n",
    "from Rollout_Functions import range_act"
   ]
  },
  {
   "cell_type": "code",
   "execution_count": 3,
   "metadata": {},
   "outputs": [],
   "source": [
    "def Rollout_search(thetaRange, nThetas, nSteps, lam, S, A, pol, improve=False):\n",
    "    costs = []\n",
    "    num_cores = multiprocessing.cpu_count()\n",
    "    np.random.seed(1)\n",
    "    \n",
    "    if improve:\n",
    "        update_every = 100\n",
    "        Rollout_acts = np.zeros(nSteps)\n",
    "    \n",
    "    for nTheta, baseTheta in enumerate(thetaRange):\n",
    "        Xc = 0\n",
    "        Xo = 1\n",
    "        lb = 0\n",
    "        ub = 1\n",
    "        totDist = 0\n",
    "        \n",
    "        if improve:\n",
    "            if nTheta and (nTheta % update_every == 0):\n",
    "                pol = Rollout_acts/update_every\n",
    "                Rollout_acts = np.zeros(nSteps)\n",
    "                \n",
    "        for nn in range(nSteps):\n",
    "            state = np.abs(ub - lb)\n",
    "            thetaRange1 = np.random.uniform(lb, ub, nThetas)  \n",
    "\n",
    "            Q = Parallel(n_jobs=num_cores)(delayed(range_act)\n",
    "                        (thetaRange1,Xc, Xo, act, lam, pol[nn+1:], S) for act in A)\n",
    "\n",
    "            bestAct = A[np.argmin(Q)]\n",
    "            dist = state*bestAct\n",
    "            dist = S[np.argmin(np.abs(S - dist))]\n",
    "            totDist += dist\n",
    "\n",
    "            if Xc < Xo:   \n",
    "                Xc += dist\n",
    "\n",
    "            elif Xc > Xo:\n",
    "                Xc -= dist\n",
    "\n",
    "            if Xc < baseTheta:\n",
    "                lb = Xc\n",
    "                Xo = ub\n",
    "            else:\n",
    "                ub = Xc         \n",
    "                Xo = lb\n",
    "                \n",
    "            if improve:\n",
    "                Rollout_acts[nn] += bestAct\n",
    "\n",
    "        costs.append(lam*totDist + np.abs(ub - lb))\n",
    "        print(\"\\rSweep: %d / %d\"%(nTheta+1, len(thetaRange)),end=\"\")\n",
    "    if improve:\n",
    "        return np.array(costs), pol\n",
    "    else:\n",
    "        return np.array(costs)\n"
   ]
  },
  {
   "cell_type": "code",
   "execution_count": 7,
   "metadata": {},
   "outputs": [
    {
     "name": "stdout",
     "output_type": "stream",
     "text": [
      "Sweep: 1001 / 1001\n",
      "Time: 384.12\n",
      "Avg. cost:  0.3432667332667333\n",
      "Last 100 avg. cost:  0.34396\n",
      "Policy:  [0.2147  0.25955 0.2809  0.32045 0.3545 ]\n"
     ]
    }
   ],
   "source": [
    "# Rollout Improvement Search Test\n",
    "num_cores = multiprocessing.cpu_count()\n",
    "\n",
    "lam      = 0.4\n",
    "nSteps   = 5\n",
    "nStates  = 501\n",
    "nThetas  = 10\n",
    "nActions = 101\n",
    "\n",
    "g   = 0.4\n",
    "pol = g*np.ones(nSteps)\n",
    "\n",
    "S = np.linspace(0, 1.0, nStates)\n",
    "A = np.linspace(0.0, 0.5, nActions)          \n",
    "\n",
    "nSweeps = 1001\n",
    "\n",
    "thetaMean  = 0.5\n",
    "thetaStd   = 0.1\n",
    "np.random.seed(0)\n",
    "thetaRange = np.random.rand(nSweeps)\n",
    "\n",
    "start = time.time()\n",
    "np.random.seed(1)\n",
    "costs, pol = Rollout_search(thetaRange, nThetas, nSteps, lam, S, A, pol, improve=True)\n",
    "stop = time.time()\n",
    "print(\"\\nTime: %.2f\"%(stop-start))\n",
    "avg_cost = np.mean(costs)\n",
    "print(\"Avg. cost: \", avg_cost)\n",
    "print(\"Last 100 avg. cost: \", np.mean(costs[-100:]))\n",
    "print(\"Policy: \", pol)"
   ]
  },
  {
   "cell_type": "code",
   "execution_count": 10,
   "metadata": {},
   "outputs": [],
   "source": [
    "np.save('./Policies/Rollout_bestAction_Uniform_lam4_N5_s501_A101',pol)"
   ]
  },
  {
   "cell_type": "code",
   "execution_count": null,
   "metadata": {},
   "outputs": [],
   "source": [
    "# Rollout Search Test - no improvement\n",
    "num_cores = multiprocessing.cpu_count()\n",
    "\n",
    "lam      = 0.4\n",
    "nSteps   = 5\n",
    "nStates  = 501\n",
    "nThetas  = 10\n",
    "nActions = 101\n",
    "\n",
    "g   = 0.4\n",
    "pol = g*np.ones(nSteps)\n",
    "\n",
    "S = np.linspace(0, 1.0, nStates)\n",
    "A = np.linspace(0.0, 0.5, nActions)          \n",
    "\n",
    "nSweeps = 1000\n",
    "\n",
    "thetaMean  = 0.5\n",
    "thetaStd   = 0.1\n",
    "np.random.seed(0)\n",
    "thetaRange = np.random.rand(nSweeps)\n",
    "\n",
    "start = time.time()\n",
    "np.random.seed(1)\n",
    "costs = Rollout_search(thetaRange, nThetas, nSteps, lam, S, A, pol)\n",
    "stop = time.time()\n",
    "print(\"\\nTime: %.2f\"%(stop-start))\n",
    "avg_cost = np.mean(costs)"
   ]
  },
  {
   "cell_type": "code",
   "execution_count": 5,
   "metadata": {},
   "outputs": [
    {
     "name": "stdout",
     "output_type": "stream",
     "text": [
      "Avg. cost:  0.3466424000000001\n",
      "Last 100 avg. cost:   0.35261600000000004\n",
      "First 100 avg. cost:  0.33605599999999997\n"
     ]
    }
   ],
   "source": [
    "print(\"Avg. cost:           \", avg_cost)\n",
    "print(\"Last 100 avg. cost:  \", np.mean(costs[-100:]))\n",
    "print(\"First 100 avg. cost: \", np.mean(costs[:100]))\n"
   ]
  }
 ],
 "metadata": {
  "celltoolbar": "Raw Cell Format",
  "colab": {
   "collapsed_sections": [],
   "name": "Rollout_Sim_Nonuniform.ipynb",
   "provenance": [],
   "version": "0.3.2"
  },
  "kernelspec": {
   "display_name": "Python 3",
   "language": "python",
   "name": "python3"
  },
  "language_info": {
   "codemirror_mode": {
    "name": "ipython",
    "version": 3
   },
   "file_extension": ".py",
   "mimetype": "text/x-python",
   "name": "python",
   "nbconvert_exporter": "python",
   "pygments_lexer": "ipython3",
   "version": "3.6.9"
  }
 },
 "nbformat": 4,
 "nbformat_minor": 1
}
