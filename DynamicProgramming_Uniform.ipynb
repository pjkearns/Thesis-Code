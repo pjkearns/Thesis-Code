{
 "cells": [
  {
   "cell_type": "code",
   "execution_count": 1,
   "metadata": {},
   "outputs": [
    {
     "data": {
      "text/html": [
       "<style>.container { width:100% !important; }</style>"
      ],
      "text/plain": [
       "<IPython.core.display.HTML object>"
      ]
     },
     "metadata": {},
     "output_type": "display_data"
    }
   ],
   "source": [
    "from IPython.core.display import display, HTML\n",
    "display(HTML(\"<style>.container { width:100% !important; }</style>\"))\n",
    "import warnings\n",
    "warnings.filterwarnings('ignore')"
   ]
  },
  {
   "cell_type": "code",
   "execution_count": 4,
   "metadata": {},
   "outputs": [],
   "source": [
    "import numpy as np\n",
    "import time"
   ]
  },
  {
   "cell_type": "code",
   "execution_count": 2,
   "metadata": {},
   "outputs": [],
   "source": [
    "# VARIABLES CONTROL VALUES IN ALL FOLLOWING PARALLEL PROCESSES\n",
    "lam = 0.4\n",
    "N = 5\n",
    "Nstates = 501\n",
    "delta = 1/Nstates\n",
    "Nactions = 101"
   ]
  },
  {
   "cell_type": "code",
   "execution_count": 5,
   "metadata": {},
   "outputs": [
    {
     "name": "stdout",
     "output_type": "stream",
     "text": [
      "2\n",
      "3\n",
      "4\n",
      "5\n",
      "6\n",
      "Time:  2.8119754791259766\n"
     ]
    }
   ],
   "source": [
    "# Initialize terminal states\n",
    "S = np.linspace(0,1,Nstates)\n",
    "\n",
    "# Actions\n",
    "A = np.linspace(0,0.5,Nactions)\n",
    "\n",
    "# compute value at step N for each length s in S\n",
    "Q = np.zeros((N+1,Nstates,Nactions))\n",
    "\n",
    "# Compute the final entropies\n",
    "bestAction = np.zeros((N,Nstates))\n",
    "\n",
    "tic = time.time()\n",
    "for aa in range(Nactions):\n",
    "    # Value of terminal states is the size of the interval\n",
    "    Q[-1,:,aa] = S\n",
    "\n",
    "# Backwards policy evaluation - PARALLEL\n",
    "for nn in range(2,N+2):\n",
    "    print(nn)\n",
    "    for ll, L in enumerate(S):\n",
    "        for aa, act in enumerate(A):\n",
    "            dist = act*L\n",
    "            Q[-nn, ll, aa] = lam*dist + (act**2 + (1-act)**2)*np.amin(Q[-nn+1,ll,:])\n",
    "            # Best action is the one that minimizes cost\n",
    "            bestAction[-nn+1,ll] = A[np.argmin(Q[-nn, ll, :])] \n",
    "toc = time.time()       \n",
    "time_p = toc-tic\n",
    "print(\"Time: \",time_p)\n",
    "np.save('./Policies/DP_bestAction_Uniform_lam4_N5_s501_A101',bestAction)"
   ]
  }
 ],
 "metadata": {
  "kernelspec": {
   "display_name": "Python 3",
   "language": "python",
   "name": "python3"
  },
  "language_info": {
   "codemirror_mode": {
    "name": "ipython",
    "version": 3
   },
   "file_extension": ".py",
   "mimetype": "text/x-python",
   "name": "python",
   "nbconvert_exporter": "python",
   "pygments_lexer": "ipython3",
   "version": "3.6.9"
  }
 },
 "nbformat": 4,
 "nbformat_minor": 2
}
