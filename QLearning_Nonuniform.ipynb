{
 "cells": [
  {
   "cell_type": "code",
   "execution_count": 3,
   "metadata": {},
   "outputs": [
    {
     "data": {
      "text/html": [
       "<style>.container { width:100% !important; }</style>"
      ],
      "text/plain": [
       "<IPython.core.display.HTML object>"
      ]
     },
     "metadata": {},
     "output_type": "display_data"
    }
   ],
   "source": [
    "from IPython.core.display import display, HTML\n",
    "display(HTML(\"<style>.container { width:100% !important; }</style>\"))"
   ]
  },
  {
   "cell_type": "code",
   "execution_count": 4,
   "metadata": {},
   "outputs": [],
   "source": [
    "import numpy as np\n",
    "import time\n",
    "import matplotlib.pyplot as plt\n",
    "from scipy.stats import truncnorm\n",
    "from FH_Functions import get_truncated_normal"
   ]
  },
  {
   "cell_type": "code",
   "execution_count": 5,
   "metadata": {},
   "outputs": [],
   "source": [
    "#@title Plain Q Training - Step Reward\n",
    "def QL_stepCost(mean = 0.5, sd = 0.1, lam = 0.4, Nsamples = 5, Nstates = 501, Nactions = 101, \n",
    "        epsDecay=0.9999, learningRate = 0.001, Nthetas = 100, Nsweeps = 10000):\n",
    "\n",
    "    S = np.linspace(0,1,Nstates)\n",
    "    A = np.linspace(0,0.5,Nactions)\n",
    "    Q = np.zeros((Nsamples+1, Nstates, Nstates, Nactions))\n",
    "    \n",
    "    for nn in range(Nsamples+1):\n",
    "        for idXc in range(Nstates):\n",
    "            for idXo in range(Nstates):\n",
    "                # Value of terminal states is the size - smaller is better\n",
    "                Q[nn, idXc, idXo, :] = np.abs(S[idXc] - S[idXo])\n",
    "    \n",
    "    epsilon = 1\n",
    "    minEpsilon = 0.1\n",
    "    np.random.seed(1)\n",
    "\n",
    "    for ii in range(Nsweeps):\n",
    "        tn = get_truncated_normal(mean, sd, 0, 1)\n",
    "        thtRange = tn.rvs(size=Nthetas)  \n",
    "        \n",
    "        for theta in thtRange:\n",
    "            \n",
    "            Xc = 0  # current location\n",
    "            Xo = 1  # opposite end of interval\n",
    "            lb = 0  # lower bound\n",
    "            ub = 1  # upper bound\n",
    "            \n",
    "            for nn in range(Nsamples):\n",
    "                # choose next action according to epsilon-greedy policy\n",
    "                idXc = np.argmin(np.abs(Xc-S))\n",
    "                idXo = np.argmin(np.abs(Xo-S)) \n",
    "                \n",
    "                state = ub - lb\n",
    "\n",
    "                if np.abs(idXc - idXo) > 1:\n",
    "                    \n",
    "                    U = np.random.rand()\n",
    "                    if U < epsilon:\n",
    "#                         explore with probability epsilon\n",
    "                        aa = np.random.randint(Nactions)\n",
    "                    else:\n",
    "#                         exploit with probability 1-epsilon\n",
    "                        aa = np.argmin(Q[nn,idXc,idXo,:])\n",
    "\n",
    "                    act  = A[aa]\n",
    "                    dist = state*act\n",
    "\n",
    "                    if Xc < Xo:   \n",
    "                        Xc += dist\n",
    "\n",
    "                    elif Xc > Xo:\n",
    "                        Xc -= dist\n",
    "                        \n",
    "                    if Xc < theta:\n",
    "                        lb = Xc\n",
    "                        Xo = ub\n",
    "                    else:\n",
    "                        ub = Xc         \n",
    "                        Xo = lb\n",
    "                        \n",
    "                    newidXc = np.argmin(np.abs(Xc-S))\n",
    "                    newidXo = np.argmin(np.abs(Xo-S))     \n",
    "\n",
    "                    # Reward is the distance travelled\n",
    "                    reward = lam*dist\n",
    "\n",
    "                    Q[nn, idXc, idXo, aa] += learningRate*(reward + np.amin(Q[nn+1, newidXc, newidXo :]) - Q[nn, idXc, idXo, aa])\n",
    "                    \n",
    "        epsilon = max(minEpsilon, epsilon*epsDecay)\n",
    "                \n",
    "        print('\\rsweep: %d of %d. eps: %.4f'%(ii+1, Nsweeps, epsilon),end=\"\")\n",
    "    return Q"
   ]
  },
  {
   "cell_type": "code",
   "execution_count": 6,
   "metadata": {},
   "outputs": [
    {
     "name": "stdout",
     "output_type": "stream",
     "text": [
      "sweep: 50500 of 50500. eps: 0.1000"
     ]
    }
   ],
   "source": [
    "start = time.time()\n",
    "Q = QL_stepCost(Nsamples = 5, epsDecay = 0.99995, Nsweeps = 50500)\n",
    "stop = time.time()"
   ]
  },
  {
   "cell_type": "code",
   "execution_count": 10,
   "metadata": {},
   "outputs": [
    {
     "name": "stdout",
     "output_type": "stream",
     "text": [
      "\n",
      "Time:  1405.4810228347778\n"
     ]
    }
   ],
   "source": [
    "print(\"\\nTime: \", stop-start)\n",
    "np.save('./Policies/Q_table_mu5_sig1_lam4_N5_s501_A101',Q)"
   ]
  },
  {
   "cell_type": "code",
   "execution_count": 8,
   "metadata": {},
   "outputs": [],
   "source": [
    "Nsamples = 5\n",
    "Nstates  = 501\n",
    "Nactions = 101\n",
    "\n",
    "A = np.linspace(0,0.5,Nactions)\n",
    "bestAct = np.zeros((Nsamples, Nstates, Nstates))\n",
    "for nn in range(Nsamples):\n",
    "    for idXc in range(Nstates):\n",
    "        for idXo in range(Nstates):\n",
    "            # Select the action that gives best cost\n",
    "            bestAct[nn, idXc, idXo] = A[np.argmin(Q[nn,idXc,idXo,:])] "
   ]
  },
  {
   "cell_type": "code",
   "execution_count": 9,
   "metadata": {},
   "outputs": [],
   "source": [
    "np.save('./Policies/QL_bestAction_mu5_sig1_lam4_N5_s501_A101',bestAct)"
   ]
  }
 ],
 "metadata": {
  "kernelspec": {
   "display_name": "Python 3",
   "language": "python",
   "name": "python3"
  },
  "language_info": {
   "codemirror_mode": {
    "name": "ipython",
    "version": 3
   },
   "file_extension": ".py",
   "mimetype": "text/x-python",
   "name": "python",
   "nbconvert_exporter": "python",
   "pygments_lexer": "ipython3",
   "version": "3.6.9"
  }
 },
 "nbformat": 4,
 "nbformat_minor": 2
}
