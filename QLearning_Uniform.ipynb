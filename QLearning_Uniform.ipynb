{
 "cells": [
  {
   "cell_type": "code",
   "execution_count": 1,
   "metadata": {},
   "outputs": [
    {
     "data": {
      "text/html": [
       "<style>.container { width:100% !important; }</style>"
      ],
      "text/plain": [
       "<IPython.core.display.HTML object>"
      ]
     },
     "metadata": {},
     "output_type": "display_data"
    }
   ],
   "source": [
    "from IPython.core.display import display, HTML\n",
    "display(HTML(\"<style>.container { width:100% !important; }</style>\"))"
   ]
  },
  {
   "cell_type": "code",
   "execution_count": 2,
   "metadata": {},
   "outputs": [],
   "source": [
    "import numpy as np\n",
    "import time\n",
    "import matplotlib.pyplot as plt"
   ]
  },
  {
   "cell_type": "code",
   "execution_count": 3,
   "metadata": {},
   "outputs": [],
   "source": [
    "#@title Plain Q Training - Step Reward\n",
    "def QL_stepCost(lam = 0.4, Nsamples = 5, Nstates = 501, Nactions = 101, \n",
    "        epsDecay=0.9999, learningRate = 0.001, Nthetas = 100, Nsweeps = 10000):\n",
    "\n",
    "    S = np.linspace(0,1,Nstates)\n",
    "    A = np.linspace(0,0.5,Nactions)\n",
    "    Q = np.zeros((Nsamples+1, Nstates, Nactions))\n",
    "    \n",
    "    for nn in range(Nsamples+1):\n",
    "        for aa in range(Nactions):\n",
    "            Q[nn, :, aa] = S\n",
    "    \n",
    "    epsilon = 1\n",
    "    minEpsilon = 0.1\n",
    "    np.random.seed(1)\n",
    "    for ii in range(Nsweeps):\n",
    "        thtRange = np.random.rand(100)  \n",
    "        \n",
    "        for theta in thtRange:\n",
    "            \n",
    "            Xc = 0  # current end of interval\n",
    "            Xo = 1  # opposite end\n",
    "            lb = 0  # lower bound\n",
    "            ub = 1  # upper bound\n",
    "            \n",
    "            for nn in range(Nsamples):\n",
    "                # choose next action according to epsilon-greedy policy                \n",
    "                state = ub - lb\n",
    "                ss = np.argmin(np.abs(S - state)) \n",
    "\n",
    "                if ss > 1:\n",
    "                    \n",
    "                    U = np.random.rand()\n",
    "                    if U < epsilon:\n",
    "                        # explore with probability epsilon\n",
    "                        aa = np.random.randint(Nactions)\n",
    "                    else:\n",
    "                        # exploit with probability 1-epsilon\n",
    "                        aa = np.argmin(Q[nn,ss,:])\n",
    "\n",
    "                    act  = A[aa]\n",
    "                    dist = state*act\n",
    "\n",
    "                    if Xc < Xo:   \n",
    "                        Xc += dist\n",
    "\n",
    "                    elif Xc > Xo:\n",
    "                        Xc -= dist\n",
    "                        \n",
    "                    if Xc < theta:\n",
    "                        lb = Xc\n",
    "                        Xo = ub\n",
    "                    else:\n",
    "                        ub = Xc         \n",
    "                        Xo = lb\n",
    "                        \n",
    "                    newState = ub - lb\n",
    "                    newSS = np.argmin(np.abs(S - newState))\n",
    "\n",
    "                    reward = lam*dist\n",
    "\n",
    "                    Q[nn, ss, aa] += learningRate*(reward + np.amin(Q[nn+1, newSS :]) - Q[nn, ss, aa])\n",
    "                    \n",
    "        epsilon = max(minEpsilon, epsilon*epsDecay)\n",
    "                \n",
    "        print('\\rsweep: %d of %d. eps: %.4f'%(ii+1, Nsweeps, epsilon),end=\"\")\n",
    "    return Q"
   ]
  },
  {
   "cell_type": "code",
   "execution_count": 4,
   "metadata": {},
   "outputs": [
    {
     "name": "stdout",
     "output_type": "stream",
     "text": [
      "sweep: 50500 of 50500. eps: 1.0000\n",
      "Time:  1167.896919965744\n"
     ]
    }
   ],
   "source": [
    "start = time.time()\n",
    "Q = QL_stepCost(Nsamples = 5, epsDecay = 0.99995, Nsweeps = 50500)\n",
    "stop = time.time()\n",
    "print(\"\\nTime: \", stop-start)\n",
    "# np.save('./Policies/Q_table_Uniform_lam4_N5_s501_A101',Q)"
   ]
  },
  {
   "cell_type": "code",
   "execution_count": 5,
   "metadata": {},
   "outputs": [],
   "source": [
    "Nsamples = 5\n",
    "Nstates  = 501\n",
    "Nactions = 101\n",
    "bestAction = np.zeros((Nsamples, Nstates))\n",
    "A = np.linspace(0, 0.5, Nactions)\n",
    "for nn in range(Nsamples):\n",
    "    for ll in range(Nstates):\n",
    "        bestAction[nn, ll] = A[np.argmin(Q[nn, ll, :])]\n",
    "np.save('./Policies/QL_bestAction_Uniform_lam4_N5_s501_A101',bestAction)"
   ]
  },
  {
   "cell_type": "code",
   "execution_count": 51,
   "metadata": {},
   "outputs": [
    {
     "data": {
      "text/plain": [
       "<matplotlib.collections.LineCollection at 0x7f17038eecc0>"
      ]
     },
     "execution_count": 51,
     "metadata": {},
     "output_type": "execute_result"
    },
    {
     "data": {
      "image/png": "[encoded data removed]",
      "text/plain": [
       "<Figure size 432x288 with 1 Axes>"
      ]
     },
     "metadata": {
      "needs_background": "light"
     },
     "output_type": "display_data"
    }
   ],
   "source": [
    "a = 1\n",
    "b = 50500\n",
    "x = np.linspace(a,b,100)\n",
    "y = 0.99995**x\n",
    "plt.plot(x,y)\n",
    "plt.hlines(0.1, a, b)"
   ]
  }
 ],
 "metadata": {
  "kernelspec": {
   "display_name": "Python 3",
   "language": "python",
   "name": "python3"
  },
  "language_info": {
   "codemirror_mode": {
    "name": "ipython",
    "version": 3
   },
   "file_extension": ".py",
   "mimetype": "text/x-python",
   "name": "python",
   "nbconvert_exporter": "python",
   "pygments_lexer": "ipython3",
   "version": "3.6.9"
  }
 },
 "nbformat": 4,
 "nbformat_minor": 2
}
