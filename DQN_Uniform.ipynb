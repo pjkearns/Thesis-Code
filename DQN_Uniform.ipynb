{
 "cells": [
  {
   "cell_type": "code",
   "execution_count": 1,
   "metadata": {},
   "outputs": [
    {
     "data": {
      "text/html": [
       "<style>.container { width:100% !important; }</style>"
      ],
      "text/plain": [
       "<IPython.core.display.HTML object>"
      ]
     },
     "metadata": {},
     "output_type": "display_data"
    }
   ],
   "source": [
    "from IPython.core.display import display, HTML\n",
    "display(HTML(\"<style>.container { width:100% !important; }</style>\"))\n",
    "import warnings\n",
    "warnings.filterwarnings('ignore')"
   ]
  },
  {
   "cell_type": "code",
   "execution_count": 2,
   "metadata": {
    "colab": {},
    "colab_type": "code",
    "id": "4mr0grvgEIIH"
   },
   "outputs": [],
   "source": [
    "import time\n",
    "import random\n",
    "import numpy as np\n",
    "from numpy import matlib\n",
    "import matplotlib.pyplot as plt\n",
    "from collections import namedtuple, deque\n",
    "from FH_Functions import opt_fracs, get_truncated_normal\n",
    "\n",
    "import torch\n",
    "import torch.nn as nn\n",
    "import torch.nn.functional as F\n",
    "import torch.optim as optim"
   ]
  },
  {
   "cell_type": "code",
   "execution_count": 3,
   "metadata": {
    "cellView": "code",
    "colab": {},
    "colab_type": "code",
    "id": "ujF51HlOETVp"
   },
   "outputs": [],
   "source": [
    "#@title Qnet\n",
    "class QNetwork(nn.Module):\n",
    "    \"\"\"Actor (Policy) Model.\"\"\"\n",
    "\n",
    "    def __init__(self, state_size, action_size, seed, fc1_units=16, fc2_units=16):\n",
    "        \"\"\"Initialize parameters and build model.\n",
    "        Params\n",
    "        ======\n",
    "            state_size (int): Dimension of each state\n",
    "            action_size (int): Dimension of each action\n",
    "            seed (int): Random seed\n",
    "            fc1_units (int): Number of nodes in first hidden layer\n",
    "            fc2_units (int): Number of nodes in second hidden layer\n",
    "        \"\"\"\n",
    "        super(QNetwork, self).__init__()\n",
    "        self.seed = torch.manual_seed(seed)\n",
    "        self.fc1 = nn.Linear(state_size, fc1_units)\n",
    "        self.fc2 = nn.Linear(fc1_units, fc2_units)\n",
    "        self.fc3 = nn.Linear(fc2_units, action_size)\n",
    "\n",
    "    def forward(self, state):\n",
    "        \"\"\"Build a network that maps state -> action values.\"\"\"\n",
    "        x = torch.relu(self.fc1(state))\n",
    "        x = torch.relu(self.fc2(x))\n",
    "        return self.fc3(x)"
   ]
  },
  {
   "cell_type": "code",
   "execution_count": 4,
   "metadata": {
    "colab": {
     "base_uri": "https://localhost:8080/",
     "height": 34
    },
    "colab_type": "code",
    "id": "b-cy1kfhqONW",
    "outputId": "c467b449-4830-41bb-f40b-f4240286c92c"
   },
   "outputs": [
    {
     "name": "stdout",
     "output_type": "stream",
     "text": [
      "cpu\n"
     ]
    }
   ],
   "source": [
    "BUFFER_SIZE = int(1e5)  # replay buffer size\n",
    "BATCH_SIZE = 128        # minibatch size\n",
    "GAMMA = 1.00            # discount factor\n",
    "TAU = 1e-3              # for soft update of target parameters\n",
    "LR = 1e-3               # learning rate \n",
    "UPDATE_EVERY = 10       # how often to update the network\n",
    "\n",
    "\"\"\"GPU only faster for larger networks\"\"\"\n",
    "# device = torch.device(\"cuda:0\" if torch.cuda.is_available() else \"cpu\")\n",
    "device = \"cpu\"\n",
    "print(device)"
   ]
  },
  {
   "cell_type": "code",
   "execution_count": 5,
   "metadata": {
    "cellView": "code",
    "colab": {},
    "colab_type": "code",
    "id": "-HXpQNEzEUoh"
   },
   "outputs": [],
   "source": [
    "#@title Agent, Replay\n",
    "class Agent():\n",
    "    \"\"\"Interacts with and learns from the environment.\"\"\"\n",
    "\n",
    "    def __init__(self, state_size, action_size, seed):\n",
    "        \"\"\"Initialize an Agent object.\n",
    "        \n",
    "        Params\n",
    "        ======\n",
    "            state_size (int): dimension of each state\n",
    "            action_size (int): dimension of each action\n",
    "            seed (int): random seed\n",
    "        \"\"\"\n",
    "        self.state_size = state_size\n",
    "        self.action_size = action_size\n",
    "        self.seed = random.seed(seed)\n",
    "\n",
    "        # Q-Network\n",
    "        self.qnetwork_local = QNetwork(state_size, action_size, seed).to(device)\n",
    "        self.qnetwork_target = QNetwork(state_size, action_size, seed).to(device)\n",
    "        self.optimizer = optim.Adam(self.qnetwork_local.parameters(), lr=LR)\n",
    "\n",
    "        # Replay memory\n",
    "        self.memory = ReplayBuffer(action_size, BUFFER_SIZE, BATCH_SIZE, seed)\n",
    "        # Initialize time step (for updating every UPDATE_EVERY steps)\n",
    "        self.t_step = 0\n",
    "    \n",
    "    def step(self, state, action, reward, next_state, done):\n",
    "        # Save experience in replay memory\n",
    "        self.memory.add(state, action, reward, next_state, done)\n",
    "        \n",
    "        # Learn every UPDATE_EVERY time steps.\n",
    "        self.t_step = (self.t_step + 1) % UPDATE_EVERY\n",
    "        if self.t_step == 0:\n",
    "            # If enough samples are available in memory, get random subset and learn\n",
    "            if len(self.memory) > BATCH_SIZE:\n",
    "                experiences = self.memory.sample()\n",
    "                self.learn(experiences, GAMMA)\n",
    "\n",
    "    def act(self, state, eps=0.):\n",
    "        \"\"\"Returns actions for given state as per current policy.\n",
    "        \n",
    "        Params\n",
    "        ======\n",
    "            state (array_like): current state\n",
    "            eps (float): epsilon, for epsilon-greedy action selection\n",
    "        \"\"\"\n",
    "        state = torch.from_numpy(state).float().unsqueeze(0).to(device)\n",
    "        self.qnetwork_local.eval()\n",
    "        with torch.no_grad():\n",
    "            action_values = self.qnetwork_local(state)\n",
    "        self.qnetwork_local.train()\n",
    "\n",
    "        # Epsilon-greedy action selection\n",
    "        if random.random() > eps:\n",
    "            return np.argmax(action_values.cpu().data.numpy())\n",
    "        else:\n",
    "            return random.choice(np.arange(self.action_size))\n",
    "\n",
    "    def learn(self, experiences, gamma):\n",
    "        \"\"\"Update value parameters using given batch of experience tuples.\n",
    "        Params\n",
    "        ======\n",
    "            experiences (Tuple[torch.Variable]): tuple of (s, a, r, s', done) tuples \n",
    "            gamma (float): discount factor\n",
    "        \"\"\"\n",
    "        states, actions, rewards, next_states, dones = experiences\n",
    "\n",
    "        # Get max predicted Q values (for next states) from target model\n",
    "        Q_targets_next = self.qnetwork_target(next_states).detach().max(1)[0].unsqueeze(1)\n",
    "        # Compute Q targets for current states \n",
    "        Q_targets = rewards + (gamma * Q_targets_next * (1 - dones))\n",
    "\n",
    "        # Get expected Q values from local model\n",
    "        Q_expected = self.qnetwork_local(states).gather(1, actions)\n",
    "\n",
    "        # Compute loss\n",
    "        loss = F.mse_loss(Q_expected, Q_targets)\n",
    "        # Minimize the loss\n",
    "        self.optimizer.zero_grad()\n",
    "        loss.backward()\n",
    "        self.optimizer.step()\n",
    "\n",
    "        # ------------------- update target network ------------------- #\n",
    "        self.soft_update(self.qnetwork_local, self.qnetwork_target, TAU)                     \n",
    "\n",
    "    def soft_update(self, local_model, target_model, tau):\n",
    "        \"\"\"Soft update model parameters.\n",
    "        θ_target = τ*θ_local + (1 - τ)*θ_target\n",
    "        Params\n",
    "        ======\n",
    "            local_model (PyTorch model): weights will be copied from\n",
    "            target_model (PyTorch model): weights will be copied to\n",
    "            tau (float): interpolation parameter \n",
    "        \"\"\"\n",
    "        for target_param, local_param in zip(target_model.parameters(), local_model.parameters()):\n",
    "            target_param.data.copy_(tau*local_param.data + (1.0-tau)*target_param.data)\n",
    "\n",
    "\n",
    "class ReplayBuffer:\n",
    "    \"\"\"Fixed-size buffer to store experience tuples.\"\"\"\n",
    "\n",
    "    def __init__(self, action_size, buffer_size, batch_size, seed):\n",
    "        \"\"\"Initialize a ReplayBuffer object.\n",
    "        Params\n",
    "        ======\n",
    "            action_size (int): dimension of each action\n",
    "            buffer_size (int): maximum size of buffer\n",
    "            batch_size (int): size of each training batch\n",
    "            seed (int): random seed\n",
    "        \"\"\"\n",
    "        self.action_size = action_size\n",
    "        self.memory = deque(maxlen=buffer_size)  \n",
    "        self.batch_size = batch_size\n",
    "        self.experience = namedtuple(\"Experience\", field_names=[\"state\", \"action\", \"reward\", \"next_state\", \"done\"])\n",
    "        self.seed = random.seed(seed)\n",
    "    \n",
    "    def add(self, state, action, reward, next_state, done):\n",
    "        \"\"\"Add a new experience to memory.\"\"\"\n",
    "        e = self.experience(state, action, reward, next_state, done)\n",
    "        self.memory.append(e)\n",
    "    \n",
    "    def sample(self):\n",
    "        \"\"\"Randomly sample a batch of experiences from memory.\"\"\"\n",
    "        experiences = random.sample(self.memory, k=self.batch_size)\n",
    "\n",
    "        states = torch.from_numpy(np.vstack([e.state for e in experiences if e is not None])).float().to(device)\n",
    "        actions = torch.from_numpy(np.vstack([e.action for e in experiences if e is not None])).long().to(device)\n",
    "        rewards = torch.from_numpy(np.vstack([e.reward for e in experiences if e is not None])).float().to(device)\n",
    "        next_states = torch.from_numpy(np.vstack([e.next_state for e in experiences if e is not None])).float().to(device)\n",
    "        dones = torch.from_numpy(np.vstack([e.done for e in experiences if e is not None]).astype(np.uint8)).float().to(device)\n",
    "        return (states, actions, rewards, next_states, dones)\n",
    "\n",
    "    def __len__(self):\n",
    "        \"\"\"Return the current size of internal memory.\"\"\"\n",
    "        return len(self.memory)"
   ]
  },
  {
   "cell_type": "code",
   "execution_count": 6,
   "metadata": {
    "cellView": "code",
    "colab": {},
    "colab_type": "code",
    "id": "bkrt1RftEV70"
   },
   "outputs": [],
   "source": [
    "#@title UNIFORM Environment\n",
    "class DQNUniformLineSearchEnv():\n",
    "    def __init__(self, lam = 0.4, Nsamples = 5, Nstates = 501):\n",
    "         \n",
    "        self.lam      = lam\n",
    "        self.Nactions = 101\n",
    "        self.Nsamples = Nsamples\n",
    "        self.S        = np.linspace(0,1,Nstates)\n",
    "        self.reset()\n",
    "\n",
    "    def step(self, action, theta):  # return the next state \n",
    "        done = False\n",
    "        thtMin = self.thtMin\n",
    "        thtMax = self.thtMax\n",
    "        Xc = self.Xc\n",
    "        Xo = self.Xo \n",
    "        N  = self.state[1]\n",
    "        \n",
    "        size   = thtMax - thtMin        \n",
    "        act    = 0.5 * (action / (self.Nactions-1))\n",
    "        dist   = size * act\n",
    "        dist   = self.S[np.argmin(np.abs(self.S - dist))]\n",
    "\n",
    "        if Xc < theta:\n",
    "            Xc = Xc + dist\n",
    "        else:\n",
    "            Xc = Xc - dist\n",
    "            \n",
    "        Xc = self.S[np.argmin(np.abs(self.S - Xc))]\n",
    "        \n",
    "        if Xc < theta:\n",
    "            thtMin = Xc\n",
    "            Xo = thtMax\n",
    "        else:\n",
    "            thtMax = Xc\n",
    "            Xo = thtMin\n",
    "            \n",
    "        newSize = thtMax - thtMin\n",
    "            \n",
    "        reward = size - newSize - self.lam*dist\n",
    "        \n",
    "        self.thtMin = thtMin\n",
    "        self.thtMax = thtMax\n",
    "        self.Xc     = Xc\n",
    "        self.Xo     = Xo\n",
    "        self.state  = np.array([self.lam, N-1, self.thtMax - self.thtMin])\n",
    "        \n",
    "        if self.state[1] == 0:\n",
    "            done = True\n",
    "        return self.state, reward, done\n",
    "    \n",
    "    def reset(self):       \n",
    "        self.thtMin = 0\n",
    "        self.thtMax = 1\n",
    "        self.Xc     = 0\n",
    "        self.Xo     = 1\n",
    "        self.state  = np.array([self.lam, self.Nsamples, self.thtMax - self.thtMin])\n",
    "        return self.state"
   ]
  },
  {
   "cell_type": "code",
   "execution_count": 7,
   "metadata": {
    "cellView": "code",
    "colab": {},
    "colab_type": "code",
    "id": "R6AFL0QYEYFb"
   },
   "outputs": [],
   "source": [
    "#@title DQN\n",
    "def dqn(agent, env, n_episodes=2000, eps_start=1.0, eps_end=0.1, eps_decay=0.9999):\n",
    "    \"\"\"Deep Q-Learning.\n",
    "    \n",
    "    Params\n",
    "    ======\n",
    "        n_episodes (int): maximum number of training episodes\n",
    "        max_t (int): maximum number of timesteps per episode\n",
    "        eps_start (float): starting value of epsilon, for epsilon-greedy action selection\n",
    "        eps_end (float): minimum value of epsilon\n",
    "        eps_decay (float): multiplicative factor (per episode) for decreasing epsilon\n",
    "        target_scores (float): average scores aming to achieve, the agent will stop training once it reaches this scores\n",
    "    \"\"\"\n",
    "    scores = []                        # list containing scores from each episode\n",
    "    scores_window = deque(maxlen=100)  # last 100 scores\n",
    "    eps = eps_start                    # initialize epsilon\n",
    "\n",
    "    np.random.seed(1)\n",
    "    for i_episode in range(1, n_episodes+1):\n",
    "        # Reset env and score at the beginning of episode\n",
    "        thtRange = np.random.rand(100)\n",
    "        \n",
    "        for tht in thtRange:\n",
    "            state = env.reset()               # get the current state\n",
    "            score = 0                         # initialize the score\n",
    "            done  = False\n",
    "\n",
    "            while not done:\n",
    "                action = agent.act(state, eps)            \n",
    "                next_state, reward, done = env.step(action, tht)            \n",
    "                agent.step(state, action, reward, next_state, done)\n",
    "                state = next_state\n",
    "                score += reward\n",
    "                if done:\n",
    "                    break \n",
    "            scores_window.append(score)       # save most recent score\n",
    "            scores.append(score)              # save most recent score\n",
    "        eps = max(eps_end, eps_decay*eps) # decrease epsilon\n",
    "        \n",
    "        print('\\rEpisode {}\\tAverage Score: {:.2f}\\tEps: {:.4f}'.format(i_episode, np.mean(scores_window), eps), end=\"\")\n",
    "        \n",
    "        if i_episode % 1000 == 0:\n",
    "            print('\\rEpisode {}\\tAverage Score: {:.2f}\\tEps: {:.4f}'.format(i_episode, np.mean(scores_window), eps))\n",
    "    \n",
    "    return scores"
   ]
  },
  {
   "cell_type": "code",
   "execution_count": 8,
   "metadata": {
    "colab": {},
    "colab_type": "code",
    "id": "N8PkMPMOEZeD"
   },
   "outputs": [],
   "source": [
    "Nsteps = 5\n",
    "env   = DQNUniformLineSearchEnv(Nsamples = Nsteps)\n",
    "agent = Agent(state_size=3, action_size=101, seed=0)"
   ]
  },
  {
   "cell_type": "code",
   "execution_count": 9,
   "metadata": {
    "colab": {
     "base_uri": "https://localhost:8080/",
     "height": 69
    },
    "colab_type": "code",
    "id": "4ruzOu6lLqoJ",
    "outputId": "2368519a-c717-45cf-80e1-354eaaacbed8"
   },
   "outputs": [
    {
     "name": "stdout",
     "output_type": "stream",
     "text": [
      "Episode 1000\tAverage Score: 0.65\tEps: 0.6065\n",
      "Episode 2000\tAverage Score: 0.66\tEps: 0.3678\n",
      "Episode 3000\tAverage Score: 0.63\tEps: 0.2230\n",
      "Episode 4000\tAverage Score: 0.68\tEps: 0.1353\n",
      "Episode 5000\tAverage Score: 0.69\tEps: 0.1000\n",
      "Episode 5050\tAverage Score: 0.65\tEps: 0.1000"
     ]
    }
   ],
   "source": [
    "start = time.time()\n",
    "scores = dqn(agent, env, n_episodes=5050, eps_decay = 0.9995)\n",
    "stop = time.time()"
   ]
  },
  {
   "cell_type": "code",
   "execution_count": 10,
   "metadata": {
    "colab": {
     "base_uri": "https://localhost:8080/",
     "height": 69
    },
    "colab_type": "code",
    "id": "4ruzOu6lLqoJ",
    "outputId": "2368519a-c717-45cf-80e1-354eaaacbed8"
   },
   "outputs": [
    {
     "name": "stdout",
     "output_type": "stream",
     "text": [
      "time: 1705.87\n"
     ]
    }
   ],
   "source": [
    "print(\"time: %.2f\"%(stop - start))\n",
    "# torch.save(agent.qnetwork_local.state_dict(), './Policies/DQN_Uniform_ReLU.pth')"
   ]
  },
  {
   "cell_type": "code",
   "execution_count": 20,
   "metadata": {},
   "outputs": [
    {
     "data": {
      "text/plain": [
       "<All keys matched successfully>"
      ]
     },
     "execution_count": 20,
     "metadata": {},
     "output_type": "execute_result"
    }
   ],
   "source": [
    "\"\"\"Load in pre-saved agent if not re-training\"\"\"\n",
    "# agent = Agent(state_size=3, action_size=101, seed=0)\n",
    "# agent.qnetwork_local.to(device)\n",
    "# agent.qnetwork_local.load_state_dict(torch.load('./Policies/DQN_Uniform_ReLU.pth'))"
   ]
  },
  {
   "cell_type": "code",
   "execution_count": 11,
   "metadata": {
    "colab": {
     "base_uri": "https://localhost:8080/",
     "height": 286
    },
    "colab_type": "code",
    "id": "5LAqx6p0E1j9",
    "outputId": "78387ec2-72fc-4d51-8e27-05fa58d3228f"
   },
   "outputs": [],
   "source": [
    "lam = 0.4\n",
    "states = np.arange(1,Nsteps + 1)\n",
    "DQNacts = np.zeros(Nsteps)\n",
    "cost = 0\n",
    "\n",
    "np.random.seed(0)\n",
    "thtRange = np.random.rand(1000)\n",
    "\n",
    "S = np.linspace(0,1,501)\n",
    "\n",
    "for theta in thtRange:\n",
    "    Xc = 0\n",
    "    Xo = 1\n",
    "    lb = 0\n",
    "    ub = 1\n",
    "    totDist = 0\n",
    "    for ii in states[::-1]:\n",
    "        length = ub - lb\n",
    "        stt = np.array([lam, ii, length])\n",
    "        action = agent.act(stt, 0)\n",
    "        action = 0.5*action/101\n",
    "        DQNacts[-ii] += action\n",
    "\n",
    "        dist = length*action\n",
    "        dist = S[np.argmin(np.abs(S - dist))]\n",
    "        totDist += dist\n",
    "        \n",
    "        if Xc < theta:   \n",
    "            Xc += dist\n",
    "\n",
    "        else:\n",
    "            Xc -= dist\n",
    "            \n",
    "        Xc = S[np.argmin(np.abs(S - Xc))]\n",
    "\n",
    "        if Xc < theta:\n",
    "            lb = Xc\n",
    "            Xo = ub\n",
    "        else:\n",
    "            ub = Xc\n",
    "            Xo = lb\n",
    "\n",
    "    cost += lam*totDist + (ub - lb)\n",
    "    \n",
    "DQNacts /= 1000\n",
    "cost /= 1000"
   ]
  },
  {
   "cell_type": "code",
   "execution_count": 13,
   "metadata": {},
   "outputs": [
    {
     "data": {
      "text/plain": [
       "5.286081609837131"
      ]
     },
     "execution_count": 13,
     "metadata": {},
     "output_type": "execute_result"
    }
   ],
   "source": [
    "100*(.3578-cost)/.3578"
   ]
  },
  {
   "cell_type": "code",
   "execution_count": 12,
   "metadata": {
    "colab": {
     "base_uri": "https://localhost:8080/",
     "height": 286
    },
    "colab_type": "code",
    "id": "5LAqx6p0E1j9",
    "outputId": "78387ec2-72fc-4d51-8e27-05fa58d3228f"
   },
   "outputs": [
    {
     "name": "stdout",
     "output_type": "stream",
     "text": [
      "Actions:  [0.13366337 0.32575743 0.2904604  0.26894059 0.25482178]\n",
      "Average cost:  0.33888640000000275\n"
     ]
    },
    {
     "data": {
      "image/png": "[encoded data removed]",
      "text/plain": [
       "<Figure size 432x288 with 1 Axes>"
      ]
     },
     "metadata": {
      "needs_background": "light"
     },
     "output_type": "display_data"
    }
   ],
   "source": [
    "plt.plot(states,DQNacts)\n",
    "plt.ylim([0, 0.5])\n",
    "print(\"Actions: \", DQNacts)\n",
    "print(\"Average cost: \", cost)  \n",
    "np.save('./DQN_bestAction_Uniform_lam4_N5_s501_A101',DQNacts)"
   ]
  }
 ],
 "metadata": {
  "accelerator": "GPU",
  "colab": {
   "collapsed_sections": [],
   "name": "DQN_uniform.ipynb",
   "provenance": []
  },
  "kernelspec": {
   "display_name": "Python 3",
   "language": "python",
   "name": "python3"
  },
  "language_info": {
   "codemirror_mode": {
    "name": "ipython",
    "version": 3
   },
   "file_extension": ".py",
   "mimetype": "text/x-python",
   "name": "python",
   "nbconvert_exporter": "python",
   "pygments_lexer": "ipython3",
   "version": "3.6.9"
  }
 },
 "nbformat": 4,
 "nbformat_minor": 1
}
